{
 "cells": [
  {
   "cell_type": "markdown",
   "metadata": {},
   "source": [
    "# Obras paralisadas"
   ]
  },
  {
   "cell_type": "markdown",
   "metadata": {},
   "source": [
    "Importando o módulo urllib para tratamento de requisições http"
   ]
  },
  {
   "cell_type": "code",
   "execution_count": 1,
   "metadata": {
    "collapsed": true
   },
   "outputs": [],
   "source": [
    "import urllib.request"
   ]
  },
  {
   "cell_type": "markdown",
   "metadata": {},
   "source": [
    "Importando o módulo Pandas para tratamento do banco de dados"
   ]
  },
  {
   "cell_type": "code",
   "execution_count": 2,
   "metadata": {
    "collapsed": true
   },
   "outputs": [],
   "source": [
    "import pandas as pd"
   ]
  },
  {
   "cell_type": "markdown",
   "metadata": {},
   "source": [
    "Escolhendo o nome do arquivo do banco de dados"
   ]
  },
  {
   "cell_type": "code",
   "execution_count": 3,
   "metadata": {
    "collapsed": true
   },
   "outputs": [],
   "source": [
    "arquivo = 'simec_obras.csv'"
   ]
  },
  {
   "cell_type": "markdown",
   "metadata": {},
   "source": [
    "Escolhendo a url do arquivo de dados a ser baixado"
   ]
  },
  {
   "cell_type": "code",
   "execution_count": 4,
   "metadata": {
    "collapsed": true
   },
   "outputs": [],
   "source": [
    "url = 'http://simec.mec.gov.br/painelObras/download.php'"
   ]
  },
  {
   "cell_type": "markdown",
   "metadata": {},
   "source": [
    "Fazendo a requisição do arquivo do banco de dados"
   ]
  },
  {
   "cell_type": "code",
   "execution_count": 5,
   "metadata": {},
   "outputs": [
    {
     "name": "stdout",
     "output_type": "stream",
     "text": [
      "Wall time: 16.9 s\n"
     ]
    },
    {
     "data": {
      "text/plain": [
       "('simec_obras.csv', <http.client.HTTPMessage at 0x1b06aeac278>)"
      ]
     },
     "execution_count": 5,
     "metadata": {},
     "output_type": "execute_result"
    }
   ],
   "source": [
    "%%time\n",
    "urllib.request.urlretrieve(url, arquivo)"
   ]
  },
  {
   "cell_type": "markdown",
   "metadata": {},
   "source": [
    "Lendo o arquivo do banco de dados definindo o tipo de separador, o padrão de codificação, o separador de decimais e que o processamento pode utilizar alta memória, bem como mostrar o tempo de execução da leitura de tal arquivo."
   ]
  },
  {
   "cell_type": "code",
   "execution_count": 6,
   "metadata": {},
   "outputs": [
    {
     "name": "stdout",
     "output_type": "stream",
     "text": [
      "Wall time: 537 ms\n"
     ]
    }
   ],
   "source": [
    "%%time\n",
    "obras = pd.read_csv(arquivo, sep=';', encoding='iso8859_1', decimal=\",\", low_memory=False)"
   ]
  },
  {
   "cell_type": "markdown",
   "metadata": {},
   "source": [
    "Apresentando as informações do banco de dados"
   ]
  },
  {
   "cell_type": "code",
   "execution_count": 7,
   "metadata": {},
   "outputs": [
    {
     "name": "stdout",
     "output_type": "stream",
     "text": [
      "<class 'pandas.core.frame.DataFrame'>\n",
      "RangeIndex: 28837 entries, 0 to 28836\n",
      "Data columns (total 57 columns):\n",
      "ID                                                28837 non-null int64\n",
      "Nome                                              28834 non-null object\n",
      "Situação                                          28837 non-null object\n",
      "Município                                         28834 non-null object\n",
      "UF                                                28834 non-null object\n",
      "CEP                                               27030 non-null object\n",
      "Logradouro                                        25290 non-null object\n",
      "Bairro                                            24640 non-null object\n",
      "Termo/Convênio                                    27608 non-null object\n",
      "Fim da Vigência Termo/Convênio                    20982 non-null object\n",
      "Situação do Termo/Convênio                        28837 non-null object\n",
      "Percentual de Execução                            28837 non-null object\n",
      "Data Prevista de Conclusão da Obra                18148 non-null object\n",
      "Tipo de ensino / Modalidade                       28833 non-null object\n",
      "Tipo do Projeto                                   28834 non-null object\n",
      "Tipo da Obra                                      28440 non-null object\n",
      "Classificação da Obra                             28710 non-null object\n",
      "Valor Pactuado pelo FNDE                          28355 non-null object\n",
      "Rede de Ensino Público                            28797 non-null object\n",
      "CNPJ                                              28829 non-null float64\n",
      "Inscrição Estadual                                19605 non-null object\n",
      "Nome da Entidade                                  28829 non-null object\n",
      "Razão Social                                      28834 non-null object\n",
      "Email                                             28829 non-null object\n",
      "Sigla                                             28829 non-null object\n",
      "Telefone Comercial                                28834 non-null object\n",
      "Fax                                               28728 non-null object\n",
      "CEP Entidade                                      28829 non-null float64\n",
      "Logradouro Entidade                               28829 non-null object\n",
      "Complemento Entidade                              15633 non-null object\n",
      "Número Entidade                                   28815 non-null object\n",
      "Bairro Entidade                                   28829 non-null object\n",
      "UF Entidade                                       6987 non-null object\n",
      "Munícipio Entidade                                22060 non-null object\n",
      "Modalidade de Licitação                           22642 non-null object\n",
      "Número da Licitação                               19476 non-null object\n",
      "Homologação da Licitação                          22315 non-null object\n",
      "Empresa Contratada                                21268 non-null object\n",
      "Data de Assinatura do Contrato                    22205 non-null object\n",
      "Prazo de Vigência                                 21673 non-null float64\n",
      "Data de Término do Contrato                       21670 non-null object\n",
      "Valor do Contrato                                 25277 non-null object\n",
      "Valor Pactuado com o FNDE                         28355 non-null object\n",
      "Data da Última Vistoria do Estado ou Município    20881 non-null object\n",
      "Situação da Vistoria                              20881 non-null object\n",
      "OBS                                               1701 non-null object\n",
      "Total Pago                                        19268 non-null object\n",
      "Percentual Pago                                   19268 non-null object\n",
      "Banco                                             26474 non-null float64\n",
      "Agência                                           26474 non-null float64\n",
      "Conta                                             26474 non-null object\n",
      "Data                                              26474 non-null object\n",
      "Saldo da Conta                                    26474 non-null object\n",
      "Saldo Fundos                                      26474 non-null object\n",
      "Saldo da Poupança                                 26474 non-null object\n",
      "Saldo CDB                                         26474 non-null object\n",
      "Saldo TOTAL                                       26474 non-null object\n",
      "dtypes: float64(5), int64(1), object(51)\n",
      "memory usage: 12.5+ MB\n"
     ]
    }
   ],
   "source": [
    "obras.info()"
   ]
  },
  {
   "cell_type": "markdown",
   "metadata": {},
   "source": [
    "Separando as obras paralisadas"
   ]
  },
  {
   "cell_type": "code",
   "execution_count": 31,
   "metadata": {
    "collapsed": true
   },
   "outputs": [],
   "source": [
    "paralisadas = obras.loc[obras['Situação'] == 'Paralisada']"
   ]
  },
  {
   "cell_type": "markdown",
   "metadata": {},
   "source": [
    "Verificando a quantidade de obras paralisadas"
   ]
  },
  {
   "cell_type": "code",
   "execution_count": 70,
   "metadata": {},
   "outputs": [
    {
     "data": {
      "text/plain": [
       "1039"
      ]
     },
     "execution_count": 70,
     "metadata": {},
     "output_type": "execute_result"
    }
   ],
   "source": [
    "quantidade_paralisadas = len(paralisadas)\n",
    "quantidade_paralisadas"
   ]
  },
  {
   "cell_type": "markdown",
   "metadata": {},
   "source": [
    "Importando o pacote datetime"
   ]
  },
  {
   "cell_type": "code",
   "execution_count": 50,
   "metadata": {
    "collapsed": true
   },
   "outputs": [],
   "source": [
    "from datetime import datetime "
   ]
  },
  {
   "cell_type": "markdown",
   "metadata": {},
   "source": [
    "Separando a série com as datas de conclusão"
   ]
  },
  {
   "cell_type": "code",
   "execution_count": 44,
   "metadata": {
    "collapsed": true
   },
   "outputs": [],
   "source": [
    "datas_conclusao = pd.to_datetime(paralisadas['Data Prevista de Conclusão da Obra'], format='%d/%m/%Y')"
   ]
  },
  {
   "cell_type": "markdown",
   "metadata": {},
   "source": [
    "Criando uma nova série com as quantidades de dias paralisadas quando menores que a data atual"
   ]
  },
  {
   "cell_type": "code",
   "execution_count": 63,
   "metadata": {
    "collapsed": true
   },
   "outputs": [],
   "source": [
    "quant_dias_paralisada = datetime.now().date() - datas_conclusao[datas_conclusao < datetime.now().date()]"
   ]
  },
  {
   "cell_type": "markdown",
   "metadata": {},
   "source": [
    "Calculando o total de dias das obras paralisadas"
   ]
  },
  {
   "cell_type": "code",
   "execution_count": 72,
   "metadata": {},
   "outputs": [
    {
     "data": {
      "text/plain": [
       "199470.0"
      ]
     },
     "execution_count": 72,
     "metadata": {},
     "output_type": "execute_result"
    }
   ],
   "source": [
    "total_dias_paralisadas = sum(quant_dias_paralisada.astype('timedelta64[D]'))\n",
    "total_dias_paralisadas"
   ]
  },
  {
   "cell_type": "markdown",
   "metadata": {},
   "source": [
    "Calculando a média de dias das obras paralisadas"
   ]
  },
  {
   "cell_type": "code",
   "execution_count": 80,
   "metadata": {},
   "outputs": [
    {
     "data": {
      "text/plain": [
       "417.30125523012555"
      ]
     },
     "execution_count": 80,
     "metadata": {},
     "output_type": "execute_result"
    }
   ],
   "source": [
    "media_dias_paralisadas = quant_dias_paralisada.astype('timedelta64[D]').mean()\n",
    "media_dias_paralisadas"
   ]
  },
  {
   "cell_type": "code",
   "execution_count": 91,
   "metadata": {},
   "outputs": [
    {
     "data": {
      "text/plain": [
       "PA    181\n",
       "BA    108\n",
       "MA     91\n",
       "CE     70\n",
       "PR     52\n",
       "MG     51\n",
       "RN     49\n",
       "PE     47\n",
       "PB     44\n",
       "RS     43\n",
       "GO     41\n",
       "PI     38\n",
       "MT     34\n",
       "SP     33\n",
       "TO     28\n",
       "RJ     21\n",
       "MS     17\n",
       "SC     14\n",
       "SE     13\n",
       "AL     12\n",
       "RO     10\n",
       "AM     10\n",
       "ES     10\n",
       "AP      8\n",
       "RR      7\n",
       "AC      7\n",
       "Name: UF, dtype: int64"
      ]
     },
     "execution_count": 91,
     "metadata": {},
     "output_type": "execute_result"
    }
   ],
   "source": [
    "paralisadas['UF'].value_counts()"
   ]
  },
  {
   "cell_type": "code",
   "execution_count": 81,
   "metadata": {},
   "outputs": [
    {
     "data": {
      "text/plain": [
       "(77578623000170) CASAALTA CONSTRUCOES LTDA                                                    12\n",
       "(18842730000103) CONSORCIO PRO-INFANCIA BRASIL - PIB                                          12\n",
       "(07275651000133) EMPREENDIMENTOS CONSTRUCOES E COMERCIO DA CONSTRUCAO LTDA                    11\n",
       "(09508468000166) MEGACONST-CONSTRUCAO E SERVICOS LTDA-ME                                      10\n",
       "(10924727000119) CONSTRUTORA FERRAZ LTDA.                                                      8\n",
       "(07561334000183) SANECON - SANEAMENTO E CONSTRUCAO CIVIL LTDA                                  7\n",
       "(01581195000173) PADRAO CONSTRUTORA LTDA                                                       6\n",
       "(02607815000169) TUMI CONSTRUCOES E EMPREENDIMENTOS LTDA.                                      6\n",
       "(18208493000115) CONSORCIO CONCRETO/PVC                                                        6\n",
       "(17591369000119) ELOFORT SERVICOS LTDA - EPP                                                   6\n",
       "(02934270000103) NACIONAL CONSTRUCOES & SERVICOS TECNICOS LTDA.EPP                             6\n",
       "(15482114000192) CONOSCO CONSTRUCOES LTDA - ME                                                 6\n",
       "(14596492000134) ENGEBREVES CONSTRUTORA E SERVICOS LTDA EPP                                    5\n",
       "(08960041000131) REALMED - COMERCIO DE MEDICAMENTOS LTDA.                                      5\n",
       "(03145683000163) CONSTRUTORA SANTA LUIZA LTDA.                                                 5\n",
       "(18384447000177) CONCEPT CONSTRUTORA LTDA - EPP                                                5\n",
       "(13530056000108) COMAL CONSTRUTORA MARANHENSE LTDA                                             5\n",
       "(03832803000109) DITRON ENGENHARIA, COMERCIO E SERVICOS LTDA                                   5\n",
       "(05477614000182) CONSTRUTORA AMAPA LTDA                                                        5\n",
       "(12528274000137) CONSTRUTORA IREART LTDA - ME                                                  4\n",
       "(12542670000119) HOUSTON CONSTRUTORA LTDA - EPP                                                4\n",
       "(10565011000172) PLANALTO PAJEU EMPREENDIMENTOS LTDA                                           4\n",
       "(03062679000131) CONSTRUTORA ESPARTAKUS LTDA EPP                                               4\n",
       "(18490807000115) ART E THEC ENGENHARIA E SERVICOS LTDA - ME                                    4\n",
       "(09658698000101) SILVA E MATOS CONSTRUCOES LTDA                                                4\n",
       "(04320785000130) ME CONSTRUTORA COMERCIO E SERVICOS LTDA ME                                    4\n",
       "(04613404000101) MENDANHA CONSTRUTORA LTDA ME                                                  4\n",
       "(02587725000153) STRATUS - PROJETOS E CONSTRUCOES LTDA                                         4\n",
       "(04955575000119) FRANCISCO ANTONIO DA MATA CONSTRUCOES - ME                                    4\n",
       "(04315219000130) CCM EMPREENDIMENTOS IMOBILIARIOS LTDA ME                                      4\n",
       "                                                                                              ..\n",
       "(11859582000182) MOLDARE ENGENHARIA, INDUSTRIA E COMERCIO DE ARTEFATOS DE CIMENTO LTDA         1\n",
       "(10974670000162) ATLANTA CONSTRUCAO LTDA - ME                                                  1\n",
       "(14422594000133) AAI - CONSULTORIA E ASSESSORIA EM ENGENHARIA E SEGURANCA DO TRABALHO LTDA     1\n",
       "(03295816000188) REGINA LUCIA RODRIGUES TELES ME                                               1\n",
       "(09007458000147) WA COMERCIO DE MATERIAIS DE CONSTRUCAO LTDA ME                                1\n",
       "(02020085000103) RIO GRANDE CONSTRUCOES LTDA                                                   1\n",
       "(16631824000108) ROMA CONSTRUCAO E TERRAPLENAGEM LTDA  - ME                                    1\n",
       "(03126339000127) PANPER LTDA                                                                   1\n",
       "(12063035000159) CONSTUCRETO EDIFICACOES LTDA - ME                                             1\n",
       "(40819708000193) CONSTRUTORA CIMEJATO LTDA                                                     1\n",
       "(02984702000182) CLASSE CONSTRUCOES LTDA                                                       1\n",
       "(18134533000121) CONSTRUTORA DOS MONTES LTDA - EPP                                             1\n",
       "(09565093000176) PLANA CONSTRUCOES E EDIFICACOES LTDA                                          1\n",
       "(03709846000193) E A FEITOSA - ME                                                              1\n",
       "(08561439000103) CONSTRUTORA PITOMBEIRA LTDA                                                   1\n",
       "(12239466000123) KGN CONSTRUTORA E EMPREENDIMENTOS LTDA. EPP                                   1\n",
       "(04675505000107) LIMA PRESTADORA DE SERVICOS LTDA -ME                                          1\n",
       "(04205167000140) CONSTRUTORA MIRANDA SOBRINHO LTDA                                             1\n",
       "(08782550000111) CONSTRUTORA FUTURO LTDA                                                       1\n",
       "(77436624000180) CONSTRUTORA TECNICA ANGRA LTDA                                                1\n",
       "(14824871000134) UNIAO CONSTRUTORA COMERCIO E SERVICOS LTDA ME                                 1\n",
       "(15088207000137) S. A. SOUZA CONSTRUTORA LTDA - ME                                             1\n",
       "(06105585000190) NOVOTEMPO VEICULOS LTDA                                                       1\n",
       "(10505889000112) MATERIAL FORTE E CONSTRUTORA LTDA                                             1\n",
       "(08721365000117) JR CONSTRUTORA E INCORPORADORA LTDA                                           1\n",
       "(22912836000103) M BARROSO DE MENEZES ME                                                       1\n",
       "(20873308000159) J. MIRANDA SERVICOS EIRELI - EPP                                              1\n",
       "(08001411000103) TECNICON CONSTRUCAO CIVIL LTDA ME                                             1\n",
       "(11859855000199) CONSTRULARA CONSTRUTORA E EMPREENDIMENTOS IMOBILIARIOS LTDA - ME              1\n",
       "(03907285000137) NEGREIROS CONSTRUCOES CIVIS E ELETRICIDADES LTDA                              1\n",
       "Name: Empresa Contratada, Length: 635, dtype: int64"
      ]
     },
     "execution_count": 81,
     "metadata": {},
     "output_type": "execute_result"
    }
   ],
   "source": [
    "paralisadas['Empresa Contratada'].value_counts()"
   ]
  },
  {
   "cell_type": "code",
   "execution_count": 98,
   "metadata": {},
   "outputs": [
    {
     "data": {
      "text/plain": [
       "48.4166664908472"
      ]
     },
     "execution_count": 98,
     "metadata": {},
     "output_type": "execute_result"
    }
   ],
   "source": [
    "paralisadas.loc[paralisadas['Empresa Contratada'] == '(18842730000103) CONSORCIO PRO-INFANCIA BRASIL - PIB', 'Percentual Pago'].astype('float').mean()"
   ]
  },
  {
   "cell_type": "code",
   "execution_count": 97,
   "metadata": {},
   "outputs": [
    {
     "data": {
      "text/plain": [
       "59.756950846416395"
      ]
     },
     "execution_count": 97,
     "metadata": {},
     "output_type": "execute_result"
    }
   ],
   "source": [
    "paralisadas.loc[paralisadas['Empresa Contratada'] == '(77578623000170) CASAALTA CONSTRUCOES LTDA', 'Percentual Pago'].astype('float').mean()"
   ]
  },
  {
   "cell_type": "code",
   "execution_count": null,
   "metadata": {
    "collapsed": true
   },
   "outputs": [],
   "source": []
  }
 ],
 "metadata": {
  "kernelspec": {
   "display_name": "Python 3",
   "language": "python",
   "name": "python3"
  },
  "language_info": {
   "codemirror_mode": {
    "name": "ipython",
    "version": 3
   },
   "file_extension": ".py",
   "mimetype": "text/x-python",
   "name": "python",
   "nbconvert_exporter": "python",
   "pygments_lexer": "ipython3",
   "version": "3.6.3"
  }
 },
 "nbformat": 4,
 "nbformat_minor": 2
}
