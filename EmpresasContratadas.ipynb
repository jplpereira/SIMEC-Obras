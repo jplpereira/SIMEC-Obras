{
 "cells": [
  {
   "cell_type": "markdown",
   "metadata": {},
   "source": [
    "# Empresas Contratadas"
   ]
  },
  {
   "cell_type": "markdown",
   "metadata": {},
   "source": [
    "Importando o módulo urllib para tratamento de requisições http"
   ]
  },
  {
   "cell_type": "code",
   "execution_count": 1,
   "metadata": {
    "collapsed": true
   },
   "outputs": [],
   "source": [
    "import urllib.request"
   ]
  },
  {
   "cell_type": "markdown",
   "metadata": {},
   "source": [
    "Importando o módulo Pandas para tratamento do banco de dados"
   ]
  },
  {
   "cell_type": "code",
   "execution_count": 2,
   "metadata": {
    "collapsed": true
   },
   "outputs": [],
   "source": [
    "import pandas as pd"
   ]
  },
  {
   "cell_type": "markdown",
   "metadata": {},
   "source": [
    "Escolhendo o nome do arquivo do banco de dados"
   ]
  },
  {
   "cell_type": "code",
   "execution_count": 3,
   "metadata": {
    "collapsed": true
   },
   "outputs": [],
   "source": [
    "arquivo = 'simec_obras.csv'"
   ]
  },
  {
   "cell_type": "markdown",
   "metadata": {},
   "source": [
    "Escolhendo a url do arquivo de dados a ser baixado"
   ]
  },
  {
   "cell_type": "code",
   "execution_count": 4,
   "metadata": {
    "collapsed": true
   },
   "outputs": [],
   "source": [
    "url = 'http://simec.mec.gov.br/painelObras/download.php'"
   ]
  },
  {
   "cell_type": "markdown",
   "metadata": {},
   "source": [
    "Fazendo a requisição do arquivo do banco de dados"
   ]
  },
  {
   "cell_type": "code",
   "execution_count": 5,
   "metadata": {},
   "outputs": [
    {
     "name": "stdout",
     "output_type": "stream",
     "text": [
      "Wall time: 36.4 s\n"
     ]
    },
    {
     "data": {
      "text/plain": [
       "('simec_obras.csv', <http.client.HTTPMessage at 0x1bacb99e2b0>)"
      ]
     },
     "execution_count": 5,
     "metadata": {},
     "output_type": "execute_result"
    }
   ],
   "source": [
    "%%time\n",
    "urllib.request.urlretrieve(url, arquivo)"
   ]
  },
  {
   "cell_type": "markdown",
   "metadata": {},
   "source": [
    "Lendo o arquivo do banco de dados definindo o tipo de separador, o padrão de codificação, o separador de decimais e que o processamento pode utilizar alta memória, bem como mostrar o tempo de execução da leitura de tal arquivo."
   ]
  },
  {
   "cell_type": "code",
   "execution_count": 6,
   "metadata": {},
   "outputs": [
    {
     "name": "stdout",
     "output_type": "stream",
     "text": [
      "Wall time: 484 ms\n"
     ]
    }
   ],
   "source": [
    "%%time\n",
    "obras = pd.read_csv(arquivo, sep=';', encoding='iso8859_1', decimal=\",\", low_memory=False)"
   ]
  },
  {
   "cell_type": "markdown",
   "metadata": {},
   "source": [
    "Apresentando as informações do banco de dados"
   ]
  },
  {
   "cell_type": "code",
   "execution_count": 7,
   "metadata": {},
   "outputs": [
    {
     "name": "stdout",
     "output_type": "stream",
     "text": [
      "<class 'pandas.core.frame.DataFrame'>\n",
      "RangeIndex: 28837 entries, 0 to 28836\n",
      "Data columns (total 57 columns):\n",
      "ID                                                28837 non-null int64\n",
      "Nome                                              28834 non-null object\n",
      "Situação                                          28837 non-null object\n",
      "Município                                         28834 non-null object\n",
      "UF                                                28834 non-null object\n",
      "CEP                                               27030 non-null object\n",
      "Logradouro                                        25290 non-null object\n",
      "Bairro                                            24640 non-null object\n",
      "Termo/Convênio                                    27608 non-null object\n",
      "Fim da Vigência Termo/Convênio                    20982 non-null object\n",
      "Situação do Termo/Convênio                        28837 non-null object\n",
      "Percentual de Execução                            28837 non-null object\n",
      "Data Prevista de Conclusão da Obra                18148 non-null object\n",
      "Tipo de ensino / Modalidade                       28833 non-null object\n",
      "Tipo do Projeto                                   28834 non-null object\n",
      "Tipo da Obra                                      28440 non-null object\n",
      "Classificação da Obra                             28710 non-null object\n",
      "Valor Pactuado pelo FNDE                          28355 non-null object\n",
      "Rede de Ensino Público                            28797 non-null object\n",
      "CNPJ                                              28829 non-null float64\n",
      "Inscrição Estadual                                19605 non-null object\n",
      "Nome da Entidade                                  28829 non-null object\n",
      "Razão Social                                      28834 non-null object\n",
      "Email                                             28829 non-null object\n",
      "Sigla                                             28829 non-null object\n",
      "Telefone Comercial                                28834 non-null object\n",
      "Fax                                               28728 non-null object\n",
      "CEP Entidade                                      28829 non-null float64\n",
      "Logradouro Entidade                               28829 non-null object\n",
      "Complemento Entidade                              15633 non-null object\n",
      "Número Entidade                                   28815 non-null object\n",
      "Bairro Entidade                                   28829 non-null object\n",
      "UF Entidade                                       6987 non-null object\n",
      "Munícipio Entidade                                22060 non-null object\n",
      "Modalidade de Licitação                           22642 non-null object\n",
      "Número da Licitação                               19476 non-null object\n",
      "Homologação da Licitação                          22315 non-null object\n",
      "Empresa Contratada                                21268 non-null object\n",
      "Data de Assinatura do Contrato                    22205 non-null object\n",
      "Prazo de Vigência                                 21673 non-null float64\n",
      "Data de Término do Contrato                       21670 non-null object\n",
      "Valor do Contrato                                 25277 non-null object\n",
      "Valor Pactuado com o FNDE                         28355 non-null object\n",
      "Data da Última Vistoria do Estado ou Município    20881 non-null object\n",
      "Situação da Vistoria                              20881 non-null object\n",
      "OBS                                               1701 non-null object\n",
      "Total Pago                                        19268 non-null object\n",
      "Percentual Pago                                   19268 non-null object\n",
      "Banco                                             26474 non-null float64\n",
      "Agência                                           26474 non-null float64\n",
      "Conta                                             26474 non-null object\n",
      "Data                                              26474 non-null object\n",
      "Saldo da Conta                                    26474 non-null object\n",
      "Saldo Fundos                                      26474 non-null object\n",
      "Saldo da Poupança                                 26474 non-null object\n",
      "Saldo CDB                                         26474 non-null object\n",
      "Saldo TOTAL                                       26474 non-null object\n",
      "dtypes: float64(5), int64(1), object(51)\n",
      "memory usage: 12.5+ MB\n"
     ]
    }
   ],
   "source": [
    "obras.info()"
   ]
  },
  {
   "cell_type": "markdown",
   "metadata": {},
   "source": [
    "Separando as empresas contratadas"
   ]
  },
  {
   "cell_type": "code",
   "execution_count": 11,
   "metadata": {},
   "outputs": [],
   "source": [
    "empresas_contratadas = obras['Empresa Contratada']"
   ]
  },
  {
   "cell_type": "markdown",
   "metadata": {},
   "source": [
    "Realizando a contagem de contratações por empresa"
   ]
  },
  {
   "cell_type": "code",
   "execution_count": 17,
   "metadata": {},
   "outputs": [
    {
     "data": {
      "text/plain": [
       "(02908931000118) CONSTRUTORA SBM LTDA                                          63\n",
       "(05205071000144) ALCA ENGENHARIA LTDA EPP                                      56\n",
       "(00401969000174) QUALITY EMPREENDIMENTOS LTDA                                  52\n",
       "(18842730000103) CONSORCIO PRO-INFANCIA BRASIL - PIB                           51\n",
       "(01379965000108) POLI ENGENHARIA E COMERCIO LTDA                               45\n",
       "(16543194000101) SPE INOVA BH S/A                                              44\n",
       "(07408234000111) L. & R. SANTOS CONSTRUCOES LTDA                               41\n",
       "(03314057000153) ENGE PRAT ENGENHARIA E SERVICOS LTDA.                         38\n",
       "(14554855000179) UNICA ENGENHARIA E EMPREENDIMENTOS IMOBILIARIOS LTDA - EPP    37\n",
       "(08878019000147) JAG EMPREENDIMENTOS LTDA                                      35\n",
       "(00521113000132) SALVER EMPREITEIRA DE MAO DE OBRA LTDA                        34\n",
       "(00392213000106) PROCESSO ENGENHARIA LTDA                                      33\n",
       "(15544385000125) CAPA CONSTRUCOES, EVENTOS E EMPREENDIMENTOS LTDA - ME         32\n",
       "(77578623000170) CASAALTA CONSTRUCOES LTDA                                     31\n",
       "(14804276000137) J B CONSTRUTORA LTDA - ME                                     29\n",
       "(00401969000174) PROCESSO ENGENHARIA LTDA                                      28\n",
       "(00991667000101) CONSTRUTORA VOLQUE LTDA                                       27\n",
       "(04967561000115) CONSTRUTORA RIBEIRO TEIXEIRA LTDA                             27\n",
       "(24339822000160) ENGECOL ENGENHARIA DE CONSTRUCAO CIVIL LTDA                   27\n",
       "(03951168000170) NE CONSTRUCOES E SERVICOS DE OBRAS CIVIS LTDA                 27\n",
       "(00700782000171) TECNOCON TECNOLOGIA EM CONSTRUCOES LTDA                       26\n",
       "(05670659000179) ARCO ENGENHARIA E CONSTRUCOES LTDA                            26\n",
       "(11674883000131) COAN CONSTRUTORA LTDA                                         26\n",
       "(04415095000165) A.R.G. INDUSTRIAL LTDA EPP                                    26\n",
       "(34265298000183) VOLUME CONSTRUCOES E PARTICIPACOES LTDA                       26\n",
       "(25320870000179) FM Engenharia Ltda                                            26\n",
       "(07152223000113) ENGELIMA CONSTRUCOES E SERVICOS LTDA                          25\n",
       "(04918243000164) CONSTRUTORA COLIBRIR LTDA                                     25\n",
       "(24061780000148) JME ENGENHARIA LTDA                                           25\n",
       "(07436857000106) AGT CONSTRUCAO E TRANSPORTE LTDA                              25\n",
       "                                                                               ..\n",
       "(13906789000196) PREF MUN DE BARRA DO CHOCA                                     1\n",
       "(11409172000130) FAZBEM CONSTRUCOES LTDA                                        1\n",
       "(23689256000153) MB EMPREENDIMENTOS EIRELI                                      1\n",
       "(07243449000120) RONDONORTE COM. DE MATERIAIS PARA CONSRUCOES LTDA. - ME.       1\n",
       "(08065675000120) DJR CONSTRUCOES LTDA                                           1\n",
       "(15324397000144) COMERCIO DE MATERIAIS DE CONSTRUCAO STANKIEWICZ LTDA - ME      1\n",
       "(10824003000101) BURMANN ENGENHARIA LTDA                                        1\n",
       "(28431662000135) JAILSON ANTONIO DA SILVA                                       1\n",
       "(12871134000167) FNC CONSTRUTORA LTDA ME                                        1\n",
       "(09614953000114) CONSTRUTORA ART - NOVA LTDA                                    1\n",
       "(01565025000103) TS CONSTRUCAO CIVIL LTDA                                       1\n",
       "(10816518000151) MD-CONSTRUCOES E SERVICOS DE CONSTRUCAO CIVIL LTDA             1\n",
       "(07540308000179) A. M. GONCALVES LIMA                                           1\n",
       "(04357863000171) CONSTRUTORA DANDOLINI LTDA                                     1\n",
       "(91030882000193) PRE LAJES PARAI LTDA                                           1\n",
       "(04351836000191) GALO CONSTRUCAO CIVIL LTDA EPP                                 1\n",
       "(56265143000180) CONSTRUTORA E ENGENHARIA MODULUS LTDA                          1\n",
       "(23700800000110) I L LIMA                                                       1\n",
       "(08902643000132) C. & C. ARAUJO CONSTRUTORA E COMERCIO LTDA.                    1\n",
       "(12795441000106) CONSTRUTORA SAO BERNARDO LTDA - ME                             1\n",
       "(17974252000114) I.F.SILVA E PAULA CONSTRUCAO LTDA - ME                         1\n",
       "(00167424000145) PROJECON PROJETOS E CONSTRUCAO CIVIL PIRACICABA LTDA           1\n",
       "(07623753000100) CONSTRUCAO E ELETRIFICACAO XXI LTDA ME                         1\n",
       "(18229907000192) N G MONTEIRO CONSTRUTORA - ME                                  1\n",
       "(05418668000177) PINVEX PRESTACAO DE SERVICOS LTDA                              1\n",
       "(07547502000186) PRODUTIVA CONSTRUCAO CIVIL LTDA - EPP                          1\n",
       "(13514144000108) D. C. DE ANCHIETA TRANSPORTES LTDA  - ME                       1\n",
       "(07452148000106) FM - PROJETOS E CONSTRUCOES LTDA.                              1\n",
       "(10375671000190) EMPORIUM DISTRIBUIDORA E IMPORTADORA LTDA ME                   1\n",
       "(09565093000176) PLANA CONSTRUCOES E EDIFICACOES LTDA                           1\n",
       "Name: Empresa Contratada, Length: 7795, dtype: int64"
      ]
     },
     "execution_count": 17,
     "metadata": {},
     "output_type": "execute_result"
    }
   ],
   "source": [
    "quant_contratacoes = empresas_contratadas.value_counts()\n",
    "quant_contratacoes"
   ]
  },
  {
   "cell_type": "markdown",
   "metadata": {},
   "source": [
    "Calculando a média de contratações por empresa"
   ]
  },
  {
   "cell_type": "code",
   "execution_count": 27,
   "metadata": {},
   "outputs": [
    {
     "data": {
      "text/plain": [
       "2.728415651058371"
      ]
     },
     "execution_count": 27,
     "metadata": {},
     "output_type": "execute_result"
    }
   ],
   "source": [
    "media_contratacoes = quant_contratacoes.mean()\n",
    "media_contratacoes"
   ]
  },
  {
   "cell_type": "code",
   "execution_count": 25,
   "metadata": {},
   "outputs": [
    {
     "data": {
      "text/plain": [
       "Concluída    63\n",
       "Name: Situação, dtype: int64"
      ]
     },
     "execution_count": 25,
     "metadata": {},
     "output_type": "execute_result"
    }
   ],
   "source": [
    "obras.loc[obras['Empresa Contratada'] == '(02908931000118) CONSTRUTORA SBM LTDA', 'Situação'].value_counts()"
   ]
  },
  {
   "cell_type": "code",
   "execution_count": 23,
   "metadata": {},
   "outputs": [
    {
     "data": {
      "text/plain": [
       "Concluída    56\n",
       "Name: Situação, dtype: int64"
      ]
     },
     "execution_count": 23,
     "metadata": {},
     "output_type": "execute_result"
    }
   ],
   "source": [
    "obras.loc[obras['Empresa Contratada'] == '(05205071000144) ALCA ENGENHARIA LTDA EPP', 'Situação'].value_counts()"
   ]
  },
  {
   "cell_type": "code",
   "execution_count": null,
   "metadata": {
    "collapsed": true
   },
   "outputs": [],
   "source": []
  }
 ],
 "metadata": {
  "kernelspec": {
   "display_name": "Python 3",
   "language": "python",
   "name": "python3"
  },
  "language_info": {
   "codemirror_mode": {
    "name": "ipython",
    "version": 3
   },
   "file_extension": ".py",
   "mimetype": "text/x-python",
   "name": "python",
   "nbconvert_exporter": "python",
   "pygments_lexer": "ipython3",
   "version": "3.6.3"
  }
 },
 "nbformat": 4,
 "nbformat_minor": 2
}
