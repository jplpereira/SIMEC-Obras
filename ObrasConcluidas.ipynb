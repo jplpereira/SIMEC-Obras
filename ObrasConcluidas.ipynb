{
 "cells": [
  {
   "cell_type": "markdown",
   "metadata": {},
   "source": [
    "# Obras concluídas sem informação da empresa contratada"
   ]
  },
  {
   "cell_type": "markdown",
   "metadata": {},
   "source": [
    "Importando o módulo urllib para tratamento de requisições http"
   ]
  },
  {
   "cell_type": "code",
   "execution_count": 1,
   "metadata": {
    "collapsed": true
   },
   "outputs": [],
   "source": [
    "import urllib.request"
   ]
  },
  {
   "cell_type": "markdown",
   "metadata": {},
   "source": [
    "Importando o módulo Pandas para tratamento do banco de dados"
   ]
  },
  {
   "cell_type": "code",
   "execution_count": 2,
   "metadata": {
    "collapsed": true
   },
   "outputs": [],
   "source": [
    "import pandas as pd"
   ]
  },
  {
   "cell_type": "markdown",
   "metadata": {},
   "source": [
    "Escolhendo o nome do arquivo do banco de dados"
   ]
  },
  {
   "cell_type": "code",
   "execution_count": 3,
   "metadata": {
    "collapsed": true
   },
   "outputs": [],
   "source": [
    "arquivo = 'simec_obras.csv'"
   ]
  },
  {
   "cell_type": "markdown",
   "metadata": {},
   "source": [
    "Escolhendo a url do arquivo de dados a ser baixado"
   ]
  },
  {
   "cell_type": "code",
   "execution_count": 4,
   "metadata": {
    "collapsed": true
   },
   "outputs": [],
   "source": [
    "url = 'http://simec.mec.gov.br/painelObras/download.php'"
   ]
  },
  {
   "cell_type": "markdown",
   "metadata": {},
   "source": [
    "Fazendo a requisição do arquivo do banco de dados"
   ]
  },
  {
   "cell_type": "code",
   "execution_count": 5,
   "metadata": {},
   "outputs": [
    {
     "name": "stdout",
     "output_type": "stream",
     "text": [
      "Wall time: 14.7 s\n"
     ]
    },
    {
     "data": {
      "text/plain": [
       "('simec_obras.csv', <http.client.HTTPMessage at 0x1d364905278>)"
      ]
     },
     "execution_count": 5,
     "metadata": {},
     "output_type": "execute_result"
    }
   ],
   "source": [
    "%%time\n",
    "urllib.request.urlretrieve(url, arquivo)"
   ]
  },
  {
   "cell_type": "markdown",
   "metadata": {},
   "source": [
    "Lendo o arquivo do banco de dados definindo o tipo de separador, o padrão de codificação, o separador de decimais e que o processamento pode utilizar alta memória, bem como mostrar o tempo de execução da leitura de tal arquivo."
   ]
  },
  {
   "cell_type": "code",
   "execution_count": 4,
   "metadata": {},
   "outputs": [
    {
     "name": "stdout",
     "output_type": "stream",
     "text": [
      "Wall time: 465 ms\n"
     ]
    }
   ],
   "source": [
    "%%time\n",
    "obras = pd.read_csv(arquivo, sep=';', encoding='iso8859_1', decimal=\",\", low_memory=False)"
   ]
  },
  {
   "cell_type": "markdown",
   "metadata": {},
   "source": [
    "Apresentando as informações do banco de dados"
   ]
  },
  {
   "cell_type": "code",
   "execution_count": 5,
   "metadata": {},
   "outputs": [
    {
     "name": "stdout",
     "output_type": "stream",
     "text": [
      "<class 'pandas.core.frame.DataFrame'>\n",
      "RangeIndex: 28837 entries, 0 to 28836\n",
      "Data columns (total 57 columns):\n",
      "ID                                                28837 non-null int64\n",
      "Nome                                              28834 non-null object\n",
      "Situação                                          28837 non-null object\n",
      "Município                                         28834 non-null object\n",
      "UF                                                28834 non-null object\n",
      "CEP                                               27030 non-null object\n",
      "Logradouro                                        25290 non-null object\n",
      "Bairro                                            24640 non-null object\n",
      "Termo/Convênio                                    27608 non-null object\n",
      "Fim da Vigência Termo/Convênio                    20982 non-null object\n",
      "Situação do Termo/Convênio                        28837 non-null object\n",
      "Percentual de Execução                            28837 non-null object\n",
      "Data Prevista de Conclusão da Obra                18148 non-null object\n",
      "Tipo de ensino / Modalidade                       28833 non-null object\n",
      "Tipo do Projeto                                   28834 non-null object\n",
      "Tipo da Obra                                      28440 non-null object\n",
      "Classificação da Obra                             28710 non-null object\n",
      "Valor Pactuado pelo FNDE                          28355 non-null object\n",
      "Rede de Ensino Público                            28797 non-null object\n",
      "CNPJ                                              28829 non-null float64\n",
      "Inscrição Estadual                                19605 non-null object\n",
      "Nome da Entidade                                  28829 non-null object\n",
      "Razão Social                                      28834 non-null object\n",
      "Email                                             28829 non-null object\n",
      "Sigla                                             28829 non-null object\n",
      "Telefone Comercial                                28834 non-null object\n",
      "Fax                                               28728 non-null object\n",
      "CEP Entidade                                      28829 non-null float64\n",
      "Logradouro Entidade                               28829 non-null object\n",
      "Complemento Entidade                              15633 non-null object\n",
      "Número Entidade                                   28815 non-null object\n",
      "Bairro Entidade                                   28829 non-null object\n",
      "UF Entidade                                       6987 non-null object\n",
      "Munícipio Entidade                                22060 non-null object\n",
      "Modalidade de Licitação                           22642 non-null object\n",
      "Número da Licitação                               19476 non-null object\n",
      "Homologação da Licitação                          22315 non-null object\n",
      "Empresa Contratada                                21268 non-null object\n",
      "Data de Assinatura do Contrato                    22205 non-null object\n",
      "Prazo de Vigência                                 21673 non-null float64\n",
      "Data de Término do Contrato                       21670 non-null object\n",
      "Valor do Contrato                                 25277 non-null object\n",
      "Valor Pactuado com o FNDE                         28355 non-null object\n",
      "Data da Última Vistoria do Estado ou Município    20881 non-null object\n",
      "Situação da Vistoria                              20881 non-null object\n",
      "OBS                                               1701 non-null object\n",
      "Total Pago                                        19268 non-null object\n",
      "Percentual Pago                                   19268 non-null object\n",
      "Banco                                             26474 non-null float64\n",
      "Agência                                           26474 non-null float64\n",
      "Conta                                             26474 non-null object\n",
      "Data                                              26474 non-null object\n",
      "Saldo da Conta                                    26474 non-null object\n",
      "Saldo Fundos                                      26474 non-null object\n",
      "Saldo da Poupança                                 26474 non-null object\n",
      "Saldo CDB                                         26474 non-null object\n",
      "Saldo TOTAL                                       26474 non-null object\n",
      "dtypes: float64(5), int64(1), object(51)\n",
      "memory usage: 12.5+ MB\n"
     ]
    }
   ],
   "source": [
    "obras.info()"
   ]
  },
  {
   "cell_type": "markdown",
   "metadata": {},
   "source": [
    "Separando as obras concluídas"
   ]
  },
  {
   "cell_type": "code",
   "execution_count": 7,
   "metadata": {
    "collapsed": true
   },
   "outputs": [],
   "source": [
    "concluidas = obras.loc[obras['Situação'] == 'Concluída']"
   ]
  },
  {
   "cell_type": "markdown",
   "metadata": {},
   "source": [
    "Verificando a quantidade de obras concluídas"
   ]
  },
  {
   "cell_type": "code",
   "execution_count": 47,
   "metadata": {},
   "outputs": [
    {
     "data": {
      "text/plain": [
       "12919"
      ]
     },
     "execution_count": 47,
     "metadata": {},
     "output_type": "execute_result"
    }
   ],
   "source": [
    "total_concluidas = len(concluidas)\n",
    "total_concluidas"
   ]
  },
  {
   "cell_type": "markdown",
   "metadata": {},
   "source": [
    "Criando um novo banco de dados apenas com a coluna 'ID' das obras concluídas que não possuem informação na coluna 'Empresa Contratada'"
   ]
  },
  {
   "cell_type": "code",
   "execution_count": 25,
   "metadata": {
    "collapsed": true
   },
   "outputs": [],
   "source": [
    "concluidas_sem_empresa = concluidas.loc[concluidas['Empresa Contratada'].isnull(), 'ID']"
   ]
  },
  {
   "cell_type": "markdown",
   "metadata": {},
   "source": [
    "Verificando a quantidade de tuplas que encontram-se no banco de dados 'concluida_sem_empresa'"
   ]
  },
  {
   "cell_type": "code",
   "execution_count": 28,
   "metadata": {},
   "outputs": [
    {
     "data": {
      "text/plain": [
       "352"
      ]
     },
     "execution_count": 28,
     "metadata": {},
     "output_type": "execute_result"
    }
   ],
   "source": [
    "total_concluidas_sem_empresa = concluidas_sem_empresa.size\n",
    "total_concluidas_sem_empresa"
   ]
  },
  {
   "cell_type": "markdown",
   "metadata": {},
   "source": [
    "Criando um novo banco com as obras concluídas cujo valor do contrato não foi totalmente pago"
   ]
  },
  {
   "cell_type": "code",
   "execution_count": 60,
   "metadata": {
    "collapsed": true
   },
   "outputs": [],
   "source": [
    "concluidas_falta_pgto = concluidas.loc[concluidas['Percentual Pago'].astype('float') != 100, 'ID']"
   ]
  },
  {
   "cell_type": "markdown",
   "metadata": {},
   "source": [
    "Apresentando o total de obras concluídas cujos pagamentos não foram totalmente efetivados"
   ]
  },
  {
   "cell_type": "code",
   "execution_count": 61,
   "metadata": {},
   "outputs": [
    {
     "data": {
      "text/plain": [
       "12258"
      ]
     },
     "execution_count": 61,
     "metadata": {},
     "output_type": "execute_result"
    }
   ],
   "source": [
    "total_concluidas_falta_pgto = concluidas_falta_pgto.size\n",
    "total_concluidas_falta_pgto"
   ]
  }
 ],
 "metadata": {
  "kernelspec": {
   "display_name": "Python 3",
   "language": "python",
   "name": "python3"
  },
  "language_info": {
   "codemirror_mode": {
    "name": "ipython",
    "version": 3
   },
   "file_extension": ".py",
   "mimetype": "text/x-python",
   "name": "python",
   "nbconvert_exporter": "python",
   "pygments_lexer": "ipython3",
   "version": "3.6.3"
  }
 },
 "nbformat": 4,
 "nbformat_minor": 2
}
