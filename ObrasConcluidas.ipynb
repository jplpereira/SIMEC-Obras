{
 "cells": [
  {
   "cell_type": "markdown",
   "metadata": {},
   "source": [
    "# Obras concluídas sem informação da empresa contratada"
   ]
  },
  {
   "cell_type": "markdown",
   "metadata": {},
   "source": [
    "Importando o módulo urllib para tratamento de requisições http"
   ]
  },
  {
   "cell_type": "code",
   "execution_count": 1,
   "metadata": {
    "collapsed": true
   },
   "outputs": [],
   "source": [
    "import urllib.request"
   ]
  },
  {
   "cell_type": "markdown",
   "metadata": {},
   "source": [
    "Importando o módulo Pandas para tratamento do banco de dados"
   ]
  },
  {
   "cell_type": "code",
   "execution_count": 2,
   "metadata": {
    "collapsed": true
   },
   "outputs": [],
   "source": [
    "import pandas as pd"
   ]
  },
  {
   "cell_type": "markdown",
   "metadata": {},
   "source": [
    "Escolhendo o nome do arquivo do banco de dados"
   ]
  },
  {
   "cell_type": "code",
   "execution_count": 3,
   "metadata": {
    "collapsed": true
   },
   "outputs": [],
   "source": [
    "arquivo = 'simec_obras.csv'"
   ]
  },
  {
   "cell_type": "markdown",
   "metadata": {},
   "source": [
    "Escolhendo a url do arquivo de dados a ser baixado"
   ]
  },
  {
   "cell_type": "code",
   "execution_count": 4,
   "metadata": {
    "collapsed": true
   },
   "outputs": [],
   "source": [
    "url = 'http://simec.mec.gov.br/painelObras/download.php'"
   ]
  },
  {
   "cell_type": "markdown",
   "metadata": {},
   "source": [
    "Fazendo a requisição do arquivo do banco de dados"
   ]
  },
  {
   "cell_type": "code",
   "execution_count": 5,
   "metadata": {},
   "outputs": [
    {
     "name": "stdout",
     "output_type": "stream",
     "text": [
      "Wall time: 14.7 s\n"
     ]
    },
    {
     "data": {
      "text/plain": [
       "('simec_obras.csv', <http.client.HTTPMessage at 0x1d364905278>)"
      ]
     },
     "execution_count": 5,
     "metadata": {},
     "output_type": "execute_result"
    }
   ],
   "source": [
    "%%time\n",
    "urllib.request.urlretrieve(url, arquivo)"
   ]
  },
  {
   "cell_type": "markdown",
   "metadata": {},
   "source": [
    "Lendo o arquivo do banco de dados definindo o tipo de separador, o padrão de codificação, o separador de decimais e que o processamento pode utilizar alta memória, bem como mostrar o tempo de execução da leitura de tal arquivo."
   ]
  },
  {
   "cell_type": "code",
   "execution_count": 6,
   "metadata": {},
   "outputs": [
    {
     "name": "stdout",
     "output_type": "stream",
     "text": [
      "Wall time: 510 ms\n"
     ]
    }
   ],
   "source": [
    "%%time\n",
    "obras = pd.read_csv(arquivo, sep=';', encoding='iso8859_1', decimal=\",\", low_memory=False)"
   ]
  },
  {
   "cell_type": "markdown",
   "metadata": {},
   "source": [
    "Apresentando as informações do banco de dados"
   ]
  },
  {
   "cell_type": "code",
   "execution_count": 7,
   "metadata": {},
   "outputs": [
    {
     "name": "stdout",
     "output_type": "stream",
     "text": [
      "<class 'pandas.core.frame.DataFrame'>\n",
      "RangeIndex: 28837 entries, 0 to 28836\n",
      "Data columns (total 57 columns):\n",
      "ID                                                28837 non-null int64\n",
      "Nome                                              28834 non-null object\n",
      "Situação                                          28837 non-null object\n",
      "Município                                         28834 non-null object\n",
      "UF                                                28834 non-null object\n",
      "CEP                                               27030 non-null object\n",
      "Logradouro                                        25290 non-null object\n",
      "Bairro                                            24640 non-null object\n",
      "Termo/Convênio                                    27608 non-null object\n",
      "Fim da Vigência Termo/Convênio                    20982 non-null object\n",
      "Situação do Termo/Convênio                        28837 non-null object\n",
      "Percentual de Execução                            28837 non-null object\n",
      "Data Prevista de Conclusão da Obra                18148 non-null object\n",
      "Tipo de ensino / Modalidade                       28833 non-null object\n",
      "Tipo do Projeto                                   28834 non-null object\n",
      "Tipo da Obra                                      28440 non-null object\n",
      "Classificação da Obra                             28710 non-null object\n",
      "Valor Pactuado pelo FNDE                          28355 non-null object\n",
      "Rede de Ensino Público                            28797 non-null object\n",
      "CNPJ                                              28829 non-null float64\n",
      "Inscrição Estadual                                19605 non-null object\n",
      "Nome da Entidade                                  28829 non-null object\n",
      "Razão Social                                      28834 non-null object\n",
      "Email                                             28829 non-null object\n",
      "Sigla                                             28829 non-null object\n",
      "Telefone Comercial                                28834 non-null object\n",
      "Fax                                               28728 non-null object\n",
      "CEP Entidade                                      28829 non-null float64\n",
      "Logradouro Entidade                               28829 non-null object\n",
      "Complemento Entidade                              15633 non-null object\n",
      "Número Entidade                                   28815 non-null object\n",
      "Bairro Entidade                                   28829 non-null object\n",
      "UF Entidade                                       6987 non-null object\n",
      "Munícipio Entidade                                22060 non-null object\n",
      "Modalidade de Licitação                           22642 non-null object\n",
      "Número da Licitação                               19476 non-null object\n",
      "Homologação da Licitação                          22315 non-null object\n",
      "Empresa Contratada                                21268 non-null object\n",
      "Data de Assinatura do Contrato                    22205 non-null object\n",
      "Prazo de Vigência                                 21673 non-null float64\n",
      "Data de Término do Contrato                       21670 non-null object\n",
      "Valor do Contrato                                 25277 non-null object\n",
      "Valor Pactuado com o FNDE                         28355 non-null object\n",
      "Data da Última Vistoria do Estado ou Município    20881 non-null object\n",
      "Situação da Vistoria                              20881 non-null object\n",
      "OBS                                               1701 non-null object\n",
      "Total Pago                                        19268 non-null object\n",
      "Percentual Pago                                   19268 non-null object\n",
      "Banco                                             26474 non-null float64\n",
      "Agência                                           26474 non-null float64\n",
      "Conta                                             26474 non-null object\n",
      "Data                                              26474 non-null object\n",
      "Saldo da Conta                                    26474 non-null object\n",
      "Saldo Fundos                                      26474 non-null object\n",
      "Saldo da Poupança                                 26474 non-null object\n",
      "Saldo CDB                                         26474 non-null object\n",
      "Saldo TOTAL                                       26474 non-null object\n",
      "dtypes: float64(5), int64(1), object(51)\n",
      "memory usage: 12.5+ MB\n"
     ]
    }
   ],
   "source": [
    "obras.info()"
   ]
  },
  {
   "cell_type": "markdown",
   "metadata": {},
   "source": [
    "Verificando a quantidade de tuplas cuja coluna 'Empresa Contratada' encontra-se sem informação"
   ]
  },
  {
   "cell_type": "code",
   "execution_count": 8,
   "metadata": {},
   "outputs": [
    {
     "data": {
      "text/plain": [
       "NaN                                                                            7569\n",
       "(02908931000118) CONSTRUTORA SBM LTDA                                            63\n",
       "(05205071000144) ALCA ENGENHARIA LTDA EPP                                        56\n",
       "(00401969000174) QUALITY EMPREENDIMENTOS LTDA                                    52\n",
       "(18842730000103) CONSORCIO PRO-INFANCIA BRASIL - PIB                             51\n",
       "(01379965000108) POLI ENGENHARIA E COMERCIO LTDA                                 45\n",
       "(16543194000101) SPE INOVA BH S/A                                                44\n",
       "(07408234000111) L. & R. SANTOS CONSTRUCOES LTDA                                 41\n",
       "(03314057000153) ENGE PRAT ENGENHARIA E SERVICOS LTDA.                           38\n",
       "(14554855000179) UNICA ENGENHARIA E EMPREENDIMENTOS IMOBILIARIOS LTDA - EPP      37\n",
       "(08878019000147) JAG EMPREENDIMENTOS LTDA                                        35\n",
       "(00521113000132) SALVER EMPREITEIRA DE MAO DE OBRA LTDA                          34\n",
       "(00392213000106) PROCESSO ENGENHARIA LTDA                                        33\n",
       "(15544385000125) CAPA CONSTRUCOES, EVENTOS E EMPREENDIMENTOS LTDA - ME           32\n",
       "(77578623000170) CASAALTA CONSTRUCOES LTDA                                       31\n",
       "(14804276000137) J B CONSTRUTORA LTDA - ME                                       29\n",
       "(00401969000174) PROCESSO ENGENHARIA LTDA                                        28\n",
       "(04967561000115) CONSTRUTORA RIBEIRO TEIXEIRA LTDA                               27\n",
       "(24339822000160) ENGECOL ENGENHARIA DE CONSTRUCAO CIVIL LTDA                     27\n",
       "(03951168000170) NE CONSTRUCOES E SERVICOS DE OBRAS CIVIS LTDA                   27\n",
       "(00991667000101) CONSTRUTORA VOLQUE LTDA                                         27\n",
       "(11674883000131) COAN CONSTRUTORA LTDA                                           26\n",
       "(34265298000183) VOLUME CONSTRUCOES E PARTICIPACOES LTDA                         26\n",
       "(05670659000179) ARCO ENGENHARIA E CONSTRUCOES LTDA                              26\n",
       "(00700782000171) TECNOCON TECNOLOGIA EM CONSTRUCOES LTDA                         26\n",
       "(25320870000179) FM Engenharia Ltda                                              26\n",
       "(04415095000165) A.R.G. INDUSTRIAL LTDA EPP                                      26\n",
       "(07152223000113) ENGELIMA CONSTRUCOES E SERVICOS LTDA                            25\n",
       "(03522765000180) CONSTRUTORA LAM LTDA                                            25\n",
       "(04918243000164) CONSTRUTORA COLIBRIR LTDA                                       25\n",
       "                                                                               ... \n",
       "(10784869000128) CONSTRUTORA ATUAL LTDA ME                                        1\n",
       "(03600318000100) VEROMTEC LTDA                                                    1\n",
       "(02528178000135) Alfa Engenharia e Empreendimentos Ltda                           1\n",
       "(12795441000106) CONSTRUTORA SAO BERNARDO LTDA - ME                               1\n",
       "(31307028000108) H. R. C. ARQUITETURA & CONSTRUCAO LTDA                           1\n",
       "(07551909000187) FORTALEZA SERVICO DE CONSTRUCAO LTDA - ME                        1\n",
       "(07294631000100) PEDRO & PAULO CONSTRUTORA LTDA ME                                1\n",
       "(10670423000172) AB SERVICOS TECNICOS EM CONSTRUCAO LTDA                          1\n",
       "(09620739000170) AGUIAR E ALBUQUERQUE CONSTRUCOES LTDA                            1\n",
       "(14579853000134) ESTRUTURAL CONSTRUTORA E INCORPORADORA EIRELI - EPP              1\n",
       "(02482840000163) WDC PROJETOS E CONSTRUCOES LTDA                                  1\n",
       "(28474176000102) G. E. DA COSTA RIBEIRO EIRELI - ME                               1\n",
       "(19964815000119) JATHARA ENGENHARIA LTDA                                          1\n",
       "(02072928000107) IVAN KIST                                                        1\n",
       "(22337545000120) LR CONSTRUTORA LTDA. - ME                                        1\n",
       "(07102198000163) CONSTRUTORA BELMONTE LTDA                                        1\n",
       "(08692744000126) J M CONSTRUTORA E SERVICOS LTDA ME                               1\n",
       "(15491487000120) DSS EMPREENDIMENTOS & CONSTRUCAO LTDA - ME                       1\n",
       "(19017652000167) VL CONSTRUCOES LTDA - ME                                         1\n",
       "(01903010000108) CODEP CONSTRUCAO CIVIL LTDA                                      1\n",
       "(09594486000108) W.W. GAMA CONSTRUTORA & ENGENHARIA LTDA ME                       1\n",
       "(08823878000139) A C GOMES FILHO                                                  1\n",
       "(09656285000198) IRMAOS NEIVERTH LTDA.                                            1\n",
       "(05470058000112) MB CONSTRUCOES E PARTICIPACOES LTDA                              1\n",
       "(70102546000139) CONSTRUTORA CBR LTDA                                             1\n",
       "(08318566000178) CC CONSTRUTORA LTDA - ME                                         1\n",
       "(08596645000140) MALTA ENGENHARIA LTDA                                            1\n",
       "(18224783000152) MG EMPREENDIMENTOS LTDA - ME                                     1\n",
       "(10857401000116) CONSTRURIBEIRA CONSTRUCOES LTDA                                  1\n",
       "(02924131000190) M. R. CONSTRUCOES LTDA                                           1\n",
       "Name: Empresa Contratada, Length: 7796, dtype: int64"
      ]
     },
     "execution_count": 8,
     "metadata": {},
     "output_type": "execute_result"
    }
   ],
   "source": [
    "obras['Empresa Contratada'].value_counts(dropna = False)"
   ]
  },
  {
   "cell_type": "markdown",
   "metadata": {},
   "source": [
    "Criando um novo banco de dados apenas com a coluna 'ID', selecionando apenas as tuplas cuja coluna 'Empresa Contratada' encontra-se sem informação e a coluna 'Situação' encontra-se como 'Concluída'"
   ]
  },
  {
   "cell_type": "code",
   "execution_count": 9,
   "metadata": {
    "collapsed": true
   },
   "outputs": [],
   "source": [
    "concluida_sem_empresa = obras.loc[(obras['Empresa Contratada'].isnull()) & (obras['Situação'] == 'Concluída'), 'ID']"
   ]
  },
  {
   "cell_type": "markdown",
   "metadata": {},
   "source": [
    "Verificando a quantidade de tuplas que encontram-se no banco de dados 'concluida_sem_empresa'"
   ]
  },
  {
   "cell_type": "code",
   "execution_count": 10,
   "metadata": {},
   "outputs": [
    {
     "data": {
      "text/plain": [
       "352"
      ]
     },
     "execution_count": 10,
     "metadata": {},
     "output_type": "execute_result"
    }
   ],
   "source": [
    "total_concluida_sem_empresa = concluida_sem_empresa.size\n",
    "total_concluida_sem_empresa"
   ]
  },
  {
   "cell_type": "markdown",
   "metadata": {},
   "source": [
    "Gerando um arquivo csv com o novo banco de dados"
   ]
  },
  {
   "cell_type": "code",
   "execution_count": 11,
   "metadata": {
    "collapsed": true
   },
   "outputs": [],
   "source": [
    "concluida_sem_empresa.to_csv('concluida_sem_empresa.csv', sep=',', index=False)"
   ]
  },
  {
   "cell_type": "markdown",
   "metadata": {},
   "source": [
    "**Conclusão:** No banco de dados gerado no dia 20 de julho de 2018 a partir dos dados constantes do Painel de Obras do SIMEC, existem atualmente {{total_concluida_sem_empresa}} obras concluídas cujas empresas contratadas não estão devidamente informadas."
   ]
  },
  {
   "cell_type": "code",
   "execution_count": 12,
   "metadata": {},
   "outputs": [
    {
     "name": "stdout",
     "output_type": "stream",
     "text": [
      "http://simec.mec.gov.br/painelObras/contratacao.php?obra=1428\n",
      "http://simec.mec.gov.br/painelObras/contratacao.php?obra=1506\n",
      "http://simec.mec.gov.br/painelObras/contratacao.php?obra=1571\n",
      "http://simec.mec.gov.br/painelObras/contratacao.php?obra=1686\n",
      "http://simec.mec.gov.br/painelObras/contratacao.php?obra=1797\n",
      "http://simec.mec.gov.br/painelObras/contratacao.php?obra=1801\n",
      "http://simec.mec.gov.br/painelObras/contratacao.php?obra=1939\n",
      "http://simec.mec.gov.br/painelObras/contratacao.php?obra=1965\n",
      "http://simec.mec.gov.br/painelObras/contratacao.php?obra=1989\n",
      "http://simec.mec.gov.br/painelObras/contratacao.php?obra=2037\n",
      "http://simec.mec.gov.br/painelObras/contratacao.php?obra=2115\n",
      "http://simec.mec.gov.br/painelObras/contratacao.php?obra=2140\n",
      "http://simec.mec.gov.br/painelObras/contratacao.php?obra=2196\n",
      "http://simec.mec.gov.br/painelObras/contratacao.php?obra=2320\n",
      "http://simec.mec.gov.br/painelObras/contratacao.php?obra=3585\n",
      "http://simec.mec.gov.br/painelObras/contratacao.php?obra=3768\n",
      "http://simec.mec.gov.br/painelObras/contratacao.php?obra=4389\n",
      "http://simec.mec.gov.br/painelObras/contratacao.php?obra=5484\n",
      "http://simec.mec.gov.br/painelObras/contratacao.php?obra=5695\n",
      "http://simec.mec.gov.br/painelObras/contratacao.php?obra=5722\n",
      "http://simec.mec.gov.br/painelObras/contratacao.php?obra=5748\n",
      "http://simec.mec.gov.br/painelObras/contratacao.php?obra=5972\n",
      "http://simec.mec.gov.br/painelObras/contratacao.php?obra=6014\n",
      "http://simec.mec.gov.br/painelObras/contratacao.php?obra=6064\n",
      "http://simec.mec.gov.br/painelObras/contratacao.php?obra=6099\n",
      "http://simec.mec.gov.br/painelObras/contratacao.php?obra=6206\n",
      "http://simec.mec.gov.br/painelObras/contratacao.php?obra=6283\n",
      "http://simec.mec.gov.br/painelObras/contratacao.php?obra=6309\n",
      "http://simec.mec.gov.br/painelObras/contratacao.php?obra=6543\n",
      "http://simec.mec.gov.br/painelObras/contratacao.php?obra=6548\n",
      "http://simec.mec.gov.br/painelObras/contratacao.php?obra=6563\n",
      "http://simec.mec.gov.br/painelObras/contratacao.php?obra=6564\n",
      "http://simec.mec.gov.br/painelObras/contratacao.php?obra=6568\n",
      "http://simec.mec.gov.br/painelObras/contratacao.php?obra=6605\n",
      "http://simec.mec.gov.br/painelObras/contratacao.php?obra=6611\n",
      "http://simec.mec.gov.br/painelObras/contratacao.php?obra=6618\n",
      "http://simec.mec.gov.br/painelObras/contratacao.php?obra=6637\n",
      "http://simec.mec.gov.br/painelObras/contratacao.php?obra=6643\n",
      "http://simec.mec.gov.br/painelObras/contratacao.php?obra=6660\n",
      "http://simec.mec.gov.br/painelObras/contratacao.php?obra=6662\n",
      "http://simec.mec.gov.br/painelObras/contratacao.php?obra=6665\n",
      "http://simec.mec.gov.br/painelObras/contratacao.php?obra=6668\n",
      "http://simec.mec.gov.br/painelObras/contratacao.php?obra=6669\n",
      "http://simec.mec.gov.br/painelObras/contratacao.php?obra=6670\n",
      "http://simec.mec.gov.br/painelObras/contratacao.php?obra=6674\n",
      "http://simec.mec.gov.br/painelObras/contratacao.php?obra=6676\n",
      "http://simec.mec.gov.br/painelObras/contratacao.php?obra=6678\n",
      "http://simec.mec.gov.br/painelObras/contratacao.php?obra=6688\n",
      "http://simec.mec.gov.br/painelObras/contratacao.php?obra=6693\n",
      "http://simec.mec.gov.br/painelObras/contratacao.php?obra=6695\n",
      "http://simec.mec.gov.br/painelObras/contratacao.php?obra=6730\n",
      "http://simec.mec.gov.br/painelObras/contratacao.php?obra=6731\n",
      "http://simec.mec.gov.br/painelObras/contratacao.php?obra=7390\n",
      "http://simec.mec.gov.br/painelObras/contratacao.php?obra=7901\n",
      "http://simec.mec.gov.br/painelObras/contratacao.php?obra=7952\n",
      "http://simec.mec.gov.br/painelObras/contratacao.php?obra=8283\n",
      "http://simec.mec.gov.br/painelObras/contratacao.php?obra=8315\n",
      "http://simec.mec.gov.br/painelObras/contratacao.php?obra=8359\n",
      "http://simec.mec.gov.br/painelObras/contratacao.php?obra=8363\n",
      "http://simec.mec.gov.br/painelObras/contratacao.php?obra=8392\n",
      "http://simec.mec.gov.br/painelObras/contratacao.php?obra=8644\n",
      "http://simec.mec.gov.br/painelObras/contratacao.php?obra=8661\n",
      "http://simec.mec.gov.br/painelObras/contratacao.php?obra=8713\n",
      "http://simec.mec.gov.br/painelObras/contratacao.php?obra=8748\n",
      "http://simec.mec.gov.br/painelObras/contratacao.php?obra=8800\n",
      "http://simec.mec.gov.br/painelObras/contratacao.php?obra=8882\n",
      "http://simec.mec.gov.br/painelObras/contratacao.php?obra=9072\n",
      "http://simec.mec.gov.br/painelObras/contratacao.php?obra=9597\n",
      "http://simec.mec.gov.br/painelObras/contratacao.php?obra=9652\n",
      "http://simec.mec.gov.br/painelObras/contratacao.php?obra=11020\n",
      "http://simec.mec.gov.br/painelObras/contratacao.php?obra=11029\n",
      "http://simec.mec.gov.br/painelObras/contratacao.php?obra=11053\n",
      "http://simec.mec.gov.br/painelObras/contratacao.php?obra=11063\n",
      "http://simec.mec.gov.br/painelObras/contratacao.php?obra=11155\n",
      "http://simec.mec.gov.br/painelObras/contratacao.php?obra=11157\n",
      "http://simec.mec.gov.br/painelObras/contratacao.php?obra=11230\n",
      "http://simec.mec.gov.br/painelObras/contratacao.php?obra=11699\n",
      "http://simec.mec.gov.br/painelObras/contratacao.php?obra=11769\n",
      "http://simec.mec.gov.br/painelObras/contratacao.php?obra=11860\n",
      "http://simec.mec.gov.br/painelObras/contratacao.php?obra=12001\n",
      "http://simec.mec.gov.br/painelObras/contratacao.php?obra=12465\n",
      "http://simec.mec.gov.br/painelObras/contratacao.php?obra=12466\n",
      "http://simec.mec.gov.br/painelObras/contratacao.php?obra=12467\n",
      "http://simec.mec.gov.br/painelObras/contratacao.php?obra=12468\n",
      "http://simec.mec.gov.br/painelObras/contratacao.php?obra=12470\n",
      "http://simec.mec.gov.br/painelObras/contratacao.php?obra=12471\n",
      "http://simec.mec.gov.br/painelObras/contratacao.php?obra=12472\n",
      "http://simec.mec.gov.br/painelObras/contratacao.php?obra=12473\n",
      "http://simec.mec.gov.br/painelObras/contratacao.php?obra=12475\n",
      "http://simec.mec.gov.br/painelObras/contratacao.php?obra=12477\n",
      "http://simec.mec.gov.br/painelObras/contratacao.php?obra=12478\n",
      "http://simec.mec.gov.br/painelObras/contratacao.php?obra=12483\n",
      "http://simec.mec.gov.br/painelObras/contratacao.php?obra=12484\n",
      "http://simec.mec.gov.br/painelObras/contratacao.php?obra=12485\n",
      "http://simec.mec.gov.br/painelObras/contratacao.php?obra=12487\n",
      "http://simec.mec.gov.br/painelObras/contratacao.php?obra=12488\n",
      "http://simec.mec.gov.br/painelObras/contratacao.php?obra=12489\n",
      "http://simec.mec.gov.br/painelObras/contratacao.php?obra=12490\n",
      "http://simec.mec.gov.br/painelObras/contratacao.php?obra=12491\n",
      "http://simec.mec.gov.br/painelObras/contratacao.php?obra=12492\n",
      "http://simec.mec.gov.br/painelObras/contratacao.php?obra=12493\n",
      "http://simec.mec.gov.br/painelObras/contratacao.php?obra=12494\n",
      "http://simec.mec.gov.br/painelObras/contratacao.php?obra=12495\n",
      "http://simec.mec.gov.br/painelObras/contratacao.php?obra=12496\n",
      "http://simec.mec.gov.br/painelObras/contratacao.php?obra=12500\n",
      "http://simec.mec.gov.br/painelObras/contratacao.php?obra=12502\n",
      "http://simec.mec.gov.br/painelObras/contratacao.php?obra=12503\n",
      "http://simec.mec.gov.br/painelObras/contratacao.php?obra=12506\n",
      "http://simec.mec.gov.br/painelObras/contratacao.php?obra=12507\n",
      "http://simec.mec.gov.br/painelObras/contratacao.php?obra=12508\n",
      "http://simec.mec.gov.br/painelObras/contratacao.php?obra=12509\n",
      "http://simec.mec.gov.br/painelObras/contratacao.php?obra=12510\n",
      "http://simec.mec.gov.br/painelObras/contratacao.php?obra=12517\n",
      "http://simec.mec.gov.br/painelObras/contratacao.php?obra=12518\n",
      "http://simec.mec.gov.br/painelObras/contratacao.php?obra=12519\n",
      "http://simec.mec.gov.br/painelObras/contratacao.php?obra=12521\n",
      "http://simec.mec.gov.br/painelObras/contratacao.php?obra=12522\n",
      "http://simec.mec.gov.br/painelObras/contratacao.php?obra=12523\n",
      "http://simec.mec.gov.br/painelObras/contratacao.php?obra=12526\n",
      "http://simec.mec.gov.br/painelObras/contratacao.php?obra=12527\n",
      "http://simec.mec.gov.br/painelObras/contratacao.php?obra=12528\n",
      "http://simec.mec.gov.br/painelObras/contratacao.php?obra=12529\n",
      "http://simec.mec.gov.br/painelObras/contratacao.php?obra=12530\n",
      "http://simec.mec.gov.br/painelObras/contratacao.php?obra=12531\n",
      "http://simec.mec.gov.br/painelObras/contratacao.php?obra=12533\n",
      "http://simec.mec.gov.br/painelObras/contratacao.php?obra=12536\n",
      "http://simec.mec.gov.br/painelObras/contratacao.php?obra=12538\n",
      "http://simec.mec.gov.br/painelObras/contratacao.php?obra=12539\n",
      "http://simec.mec.gov.br/painelObras/contratacao.php?obra=12540\n",
      "http://simec.mec.gov.br/painelObras/contratacao.php?obra=12541\n",
      "http://simec.mec.gov.br/painelObras/contratacao.php?obra=12543\n",
      "http://simec.mec.gov.br/painelObras/contratacao.php?obra=12544\n",
      "http://simec.mec.gov.br/painelObras/contratacao.php?obra=12545\n",
      "http://simec.mec.gov.br/painelObras/contratacao.php?obra=12629\n",
      "http://simec.mec.gov.br/painelObras/contratacao.php?obra=13238\n",
      "http://simec.mec.gov.br/painelObras/contratacao.php?obra=13258\n",
      "http://simec.mec.gov.br/painelObras/contratacao.php?obra=13262\n",
      "http://simec.mec.gov.br/painelObras/contratacao.php?obra=13304\n",
      "http://simec.mec.gov.br/painelObras/contratacao.php?obra=13393\n",
      "http://simec.mec.gov.br/painelObras/contratacao.php?obra=13583\n",
      "http://simec.mec.gov.br/painelObras/contratacao.php?obra=13669\n",
      "http://simec.mec.gov.br/painelObras/contratacao.php?obra=13779\n",
      "http://simec.mec.gov.br/painelObras/contratacao.php?obra=13992\n",
      "http://simec.mec.gov.br/painelObras/contratacao.php?obra=14046\n",
      "http://simec.mec.gov.br/painelObras/contratacao.php?obra=14047\n",
      "http://simec.mec.gov.br/painelObras/contratacao.php?obra=14285\n",
      "http://simec.mec.gov.br/painelObras/contratacao.php?obra=14355\n",
      "http://simec.mec.gov.br/painelObras/contratacao.php?obra=14358\n",
      "http://simec.mec.gov.br/painelObras/contratacao.php?obra=14480\n",
      "http://simec.mec.gov.br/painelObras/contratacao.php?obra=14481\n",
      "http://simec.mec.gov.br/painelObras/contratacao.php?obra=14484\n",
      "http://simec.mec.gov.br/painelObras/contratacao.php?obra=14519\n",
      "http://simec.mec.gov.br/painelObras/contratacao.php?obra=14663\n",
      "http://simec.mec.gov.br/painelObras/contratacao.php?obra=14664\n",
      "http://simec.mec.gov.br/painelObras/contratacao.php?obra=14667\n",
      "http://simec.mec.gov.br/painelObras/contratacao.php?obra=14668\n",
      "http://simec.mec.gov.br/painelObras/contratacao.php?obra=14670\n",
      "http://simec.mec.gov.br/painelObras/contratacao.php?obra=14874\n",
      "http://simec.mec.gov.br/painelObras/contratacao.php?obra=17421\n",
      "http://simec.mec.gov.br/painelObras/contratacao.php?obra=17446\n",
      "http://simec.mec.gov.br/painelObras/contratacao.php?obra=17469\n",
      "http://simec.mec.gov.br/painelObras/contratacao.php?obra=17664\n",
      "http://simec.mec.gov.br/painelObras/contratacao.php?obra=17665\n",
      "http://simec.mec.gov.br/painelObras/contratacao.php?obra=17669\n",
      "http://simec.mec.gov.br/painelObras/contratacao.php?obra=17978\n",
      "http://simec.mec.gov.br/painelObras/contratacao.php?obra=18120\n",
      "http://simec.mec.gov.br/painelObras/contratacao.php?obra=18128\n",
      "http://simec.mec.gov.br/painelObras/contratacao.php?obra=18274\n",
      "http://simec.mec.gov.br/painelObras/contratacao.php?obra=18279\n",
      "http://simec.mec.gov.br/painelObras/contratacao.php?obra=18345\n",
      "http://simec.mec.gov.br/painelObras/contratacao.php?obra=18405\n",
      "http://simec.mec.gov.br/painelObras/contratacao.php?obra=18415\n",
      "http://simec.mec.gov.br/painelObras/contratacao.php?obra=18490\n",
      "http://simec.mec.gov.br/painelObras/contratacao.php?obra=18530\n",
      "http://simec.mec.gov.br/painelObras/contratacao.php?obra=18555\n",
      "http://simec.mec.gov.br/painelObras/contratacao.php?obra=18606\n",
      "http://simec.mec.gov.br/painelObras/contratacao.php?obra=18626\n",
      "http://simec.mec.gov.br/painelObras/contratacao.php?obra=18668\n",
      "http://simec.mec.gov.br/painelObras/contratacao.php?obra=18731\n",
      "http://simec.mec.gov.br/painelObras/contratacao.php?obra=18733\n",
      "http://simec.mec.gov.br/painelObras/contratacao.php?obra=18761\n",
      "http://simec.mec.gov.br/painelObras/contratacao.php?obra=18794\n",
      "http://simec.mec.gov.br/painelObras/contratacao.php?obra=18887\n",
      "http://simec.mec.gov.br/painelObras/contratacao.php?obra=18935\n",
      "http://simec.mec.gov.br/painelObras/contratacao.php?obra=18973\n",
      "http://simec.mec.gov.br/painelObras/contratacao.php?obra=19028\n",
      "http://simec.mec.gov.br/painelObras/contratacao.php?obra=19061\n",
      "http://simec.mec.gov.br/painelObras/contratacao.php?obra=19154\n",
      "http://simec.mec.gov.br/painelObras/contratacao.php?obra=19180\n",
      "http://simec.mec.gov.br/painelObras/contratacao.php?obra=19240\n",
      "http://simec.mec.gov.br/painelObras/contratacao.php?obra=19287\n",
      "http://simec.mec.gov.br/painelObras/contratacao.php?obra=19298\n",
      "http://simec.mec.gov.br/painelObras/contratacao.php?obra=19302\n",
      "http://simec.mec.gov.br/painelObras/contratacao.php?obra=19337\n",
      "http://simec.mec.gov.br/painelObras/contratacao.php?obra=19367\n",
      "http://simec.mec.gov.br/painelObras/contratacao.php?obra=19551\n",
      "http://simec.mec.gov.br/painelObras/contratacao.php?obra=19594\n",
      "http://simec.mec.gov.br/painelObras/contratacao.php?obra=19664\n",
      "http://simec.mec.gov.br/painelObras/contratacao.php?obra=19735\n",
      "http://simec.mec.gov.br/painelObras/contratacao.php?obra=19753\n",
      "http://simec.mec.gov.br/painelObras/contratacao.php?obra=19780\n",
      "http://simec.mec.gov.br/painelObras/contratacao.php?obra=19891\n",
      "http://simec.mec.gov.br/painelObras/contratacao.php?obra=20066\n",
      "http://simec.mec.gov.br/painelObras/contratacao.php?obra=20071\n",
      "http://simec.mec.gov.br/painelObras/contratacao.php?obra=22544\n",
      "http://simec.mec.gov.br/painelObras/contratacao.php?obra=22565\n",
      "http://simec.mec.gov.br/painelObras/contratacao.php?obra=22710\n",
      "http://simec.mec.gov.br/painelObras/contratacao.php?obra=22816\n",
      "http://simec.mec.gov.br/painelObras/contratacao.php?obra=22823\n",
      "http://simec.mec.gov.br/painelObras/contratacao.php?obra=22882\n",
      "http://simec.mec.gov.br/painelObras/contratacao.php?obra=23080\n",
      "http://simec.mec.gov.br/painelObras/contratacao.php?obra=23246\n",
      "http://simec.mec.gov.br/painelObras/contratacao.php?obra=24363\n",
      "http://simec.mec.gov.br/painelObras/contratacao.php?obra=24386\n",
      "http://simec.mec.gov.br/painelObras/contratacao.php?obra=24434\n",
      "http://simec.mec.gov.br/painelObras/contratacao.php?obra=24474\n",
      "http://simec.mec.gov.br/painelObras/contratacao.php?obra=24580\n",
      "http://simec.mec.gov.br/painelObras/contratacao.php?obra=24586\n",
      "http://simec.mec.gov.br/painelObras/contratacao.php?obra=24603\n",
      "http://simec.mec.gov.br/painelObras/contratacao.php?obra=24610\n",
      "http://simec.mec.gov.br/painelObras/contratacao.php?obra=24654\n",
      "http://simec.mec.gov.br/painelObras/contratacao.php?obra=24688\n",
      "http://simec.mec.gov.br/painelObras/contratacao.php?obra=24691\n",
      "http://simec.mec.gov.br/painelObras/contratacao.php?obra=24953\n",
      "http://simec.mec.gov.br/painelObras/contratacao.php?obra=24986\n",
      "http://simec.mec.gov.br/painelObras/contratacao.php?obra=24987\n",
      "http://simec.mec.gov.br/painelObras/contratacao.php?obra=24995\n",
      "http://simec.mec.gov.br/painelObras/contratacao.php?obra=25187\n",
      "http://simec.mec.gov.br/painelObras/contratacao.php?obra=25294\n",
      "http://simec.mec.gov.br/painelObras/contratacao.php?obra=25295\n",
      "http://simec.mec.gov.br/painelObras/contratacao.php?obra=25296\n",
      "http://simec.mec.gov.br/painelObras/contratacao.php?obra=25491\n",
      "http://simec.mec.gov.br/painelObras/contratacao.php?obra=25588\n",
      "http://simec.mec.gov.br/painelObras/contratacao.php?obra=25607\n",
      "http://simec.mec.gov.br/painelObras/contratacao.php?obra=25929\n",
      "http://simec.mec.gov.br/painelObras/contratacao.php?obra=25940\n",
      "http://simec.mec.gov.br/painelObras/contratacao.php?obra=25945\n",
      "http://simec.mec.gov.br/painelObras/contratacao.php?obra=26012\n",
      "http://simec.mec.gov.br/painelObras/contratacao.php?obra=26080\n",
      "http://simec.mec.gov.br/painelObras/contratacao.php?obra=26130\n",
      "http://simec.mec.gov.br/painelObras/contratacao.php?obra=26145\n",
      "http://simec.mec.gov.br/painelObras/contratacao.php?obra=26146\n",
      "http://simec.mec.gov.br/painelObras/contratacao.php?obra=26147\n",
      "http://simec.mec.gov.br/painelObras/contratacao.php?obra=26149\n",
      "http://simec.mec.gov.br/painelObras/contratacao.php?obra=26228\n",
      "http://simec.mec.gov.br/painelObras/contratacao.php?obra=26309\n",
      "http://simec.mec.gov.br/painelObras/contratacao.php?obra=26310\n",
      "http://simec.mec.gov.br/painelObras/contratacao.php?obra=26444\n",
      "http://simec.mec.gov.br/painelObras/contratacao.php?obra=26484\n",
      "http://simec.mec.gov.br/painelObras/contratacao.php?obra=27368\n",
      "http://simec.mec.gov.br/painelObras/contratacao.php?obra=27372\n",
      "http://simec.mec.gov.br/painelObras/contratacao.php?obra=27373\n",
      "http://simec.mec.gov.br/painelObras/contratacao.php?obra=27374\n",
      "http://simec.mec.gov.br/painelObras/contratacao.php?obra=27642\n",
      "http://simec.mec.gov.br/painelObras/contratacao.php?obra=28376\n",
      "http://simec.mec.gov.br/painelObras/contratacao.php?obra=28423\n",
      "http://simec.mec.gov.br/painelObras/contratacao.php?obra=28434\n",
      "http://simec.mec.gov.br/painelObras/contratacao.php?obra=28658\n",
      "http://simec.mec.gov.br/painelObras/contratacao.php?obra=29078\n",
      "http://simec.mec.gov.br/painelObras/contratacao.php?obra=29083\n",
      "http://simec.mec.gov.br/painelObras/contratacao.php?obra=29609\n",
      "http://simec.mec.gov.br/painelObras/contratacao.php?obra=29743\n",
      "http://simec.mec.gov.br/painelObras/contratacao.php?obra=29746\n",
      "http://simec.mec.gov.br/painelObras/contratacao.php?obra=29784\n",
      "http://simec.mec.gov.br/painelObras/contratacao.php?obra=30780\n",
      "http://simec.mec.gov.br/painelObras/contratacao.php?obra=30845\n",
      "http://simec.mec.gov.br/painelObras/contratacao.php?obra=30879\n",
      "http://simec.mec.gov.br/painelObras/contratacao.php?obra=30959\n",
      "http://simec.mec.gov.br/painelObras/contratacao.php?obra=31152\n",
      "http://simec.mec.gov.br/painelObras/contratacao.php?obra=32991\n",
      "http://simec.mec.gov.br/painelObras/contratacao.php?obra=33007\n",
      "http://simec.mec.gov.br/painelObras/contratacao.php?obra=33062\n",
      "http://simec.mec.gov.br/painelObras/contratacao.php?obra=33158\n",
      "http://simec.mec.gov.br/painelObras/contratacao.php?obra=33258\n",
      "http://simec.mec.gov.br/painelObras/contratacao.php?obra=33270\n",
      "http://simec.mec.gov.br/painelObras/contratacao.php?obra=33378\n",
      "http://simec.mec.gov.br/painelObras/contratacao.php?obra=33382\n",
      "http://simec.mec.gov.br/painelObras/contratacao.php?obra=33481\n",
      "http://simec.mec.gov.br/painelObras/contratacao.php?obra=33579\n",
      "http://simec.mec.gov.br/painelObras/contratacao.php?obra=1000449\n",
      "http://simec.mec.gov.br/painelObras/contratacao.php?obra=1000467\n",
      "http://simec.mec.gov.br/painelObras/contratacao.php?obra=1000486\n",
      "http://simec.mec.gov.br/painelObras/contratacao.php?obra=1000610\n",
      "http://simec.mec.gov.br/painelObras/contratacao.php?obra=1000753\n",
      "http://simec.mec.gov.br/painelObras/contratacao.php?obra=1000885\n",
      "http://simec.mec.gov.br/painelObras/contratacao.php?obra=1000901\n",
      "http://simec.mec.gov.br/painelObras/contratacao.php?obra=1000902\n",
      "http://simec.mec.gov.br/painelObras/contratacao.php?obra=1000988\n",
      "http://simec.mec.gov.br/painelObras/contratacao.php?obra=1001467\n",
      "http://simec.mec.gov.br/painelObras/contratacao.php?obra=1001595\n",
      "http://simec.mec.gov.br/painelObras/contratacao.php?obra=1001707\n",
      "http://simec.mec.gov.br/painelObras/contratacao.php?obra=1001708\n",
      "http://simec.mec.gov.br/painelObras/contratacao.php?obra=1001709\n",
      "http://simec.mec.gov.br/painelObras/contratacao.php?obra=1001710\n",
      "http://simec.mec.gov.br/painelObras/contratacao.php?obra=1001735\n",
      "http://simec.mec.gov.br/painelObras/contratacao.php?obra=1002007\n",
      "http://simec.mec.gov.br/painelObras/contratacao.php?obra=1002576\n",
      "http://simec.mec.gov.br/painelObras/contratacao.php?obra=1002795\n",
      "http://simec.mec.gov.br/painelObras/contratacao.php?obra=1002891\n",
      "http://simec.mec.gov.br/painelObras/contratacao.php?obra=1003038\n",
      "http://simec.mec.gov.br/painelObras/contratacao.php?obra=1003039\n",
      "http://simec.mec.gov.br/painelObras/contratacao.php?obra=1003364\n",
      "http://simec.mec.gov.br/painelObras/contratacao.php?obra=1003365\n",
      "http://simec.mec.gov.br/painelObras/contratacao.php?obra=1003733\n",
      "http://simec.mec.gov.br/painelObras/contratacao.php?obra=1004404\n",
      "http://simec.mec.gov.br/painelObras/contratacao.php?obra=1004405\n",
      "http://simec.mec.gov.br/painelObras/contratacao.php?obra=1004406\n",
      "http://simec.mec.gov.br/painelObras/contratacao.php?obra=1004892\n",
      "http://simec.mec.gov.br/painelObras/contratacao.php?obra=1005550\n",
      "http://simec.mec.gov.br/painelObras/contratacao.php?obra=1006436\n",
      "http://simec.mec.gov.br/painelObras/contratacao.php?obra=1006459\n",
      "http://simec.mec.gov.br/painelObras/contratacao.php?obra=1006927\n",
      "http://simec.mec.gov.br/painelObras/contratacao.php?obra=1006978\n",
      "http://simec.mec.gov.br/painelObras/contratacao.php?obra=1007287\n",
      "http://simec.mec.gov.br/painelObras/contratacao.php?obra=1007425\n",
      "http://simec.mec.gov.br/painelObras/contratacao.php?obra=1007434\n",
      "http://simec.mec.gov.br/painelObras/contratacao.php?obra=1007435\n",
      "http://simec.mec.gov.br/painelObras/contratacao.php?obra=1007438\n",
      "http://simec.mec.gov.br/painelObras/contratacao.php?obra=1007899\n",
      "http://simec.mec.gov.br/painelObras/contratacao.php?obra=1007906\n",
      "http://simec.mec.gov.br/painelObras/contratacao.php?obra=1008162\n",
      "http://simec.mec.gov.br/painelObras/contratacao.php?obra=1008186\n",
      "http://simec.mec.gov.br/painelObras/contratacao.php?obra=1008192\n",
      "http://simec.mec.gov.br/painelObras/contratacao.php?obra=1008393\n",
      "http://simec.mec.gov.br/painelObras/contratacao.php?obra=1008394\n",
      "http://simec.mec.gov.br/painelObras/contratacao.php?obra=1008751\n",
      "http://simec.mec.gov.br/painelObras/contratacao.php?obra=1008752\n",
      "http://simec.mec.gov.br/painelObras/contratacao.php?obra=1008767\n",
      "http://simec.mec.gov.br/painelObras/contratacao.php?obra=1008852\n",
      "http://simec.mec.gov.br/painelObras/contratacao.php?obra=1008990\n",
      "http://simec.mec.gov.br/painelObras/contratacao.php?obra=1009978\n",
      "http://simec.mec.gov.br/painelObras/contratacao.php?obra=1010063\n",
      "http://simec.mec.gov.br/painelObras/contratacao.php?obra=1010341\n",
      "http://simec.mec.gov.br/painelObras/contratacao.php?obra=1010399\n",
      "http://simec.mec.gov.br/painelObras/contratacao.php?obra=1010445\n",
      "http://simec.mec.gov.br/painelObras/contratacao.php?obra=1010927\n",
      "http://simec.mec.gov.br/painelObras/contratacao.php?obra=1010988\n",
      "http://simec.mec.gov.br/painelObras/contratacao.php?obra=1011846\n",
      "http://simec.mec.gov.br/painelObras/contratacao.php?obra=1012694\n",
      "http://simec.mec.gov.br/painelObras/contratacao.php?obra=1012915\n",
      "http://simec.mec.gov.br/painelObras/contratacao.php?obra=1013061\n",
      "http://simec.mec.gov.br/painelObras/contratacao.php?obra=1014033\n",
      "http://simec.mec.gov.br/painelObras/contratacao.php?obra=1014711\n",
      "http://simec.mec.gov.br/painelObras/contratacao.php?obra=1014735\n",
      "http://simec.mec.gov.br/painelObras/contratacao.php?obra=1014934\n",
      "http://simec.mec.gov.br/painelObras/contratacao.php?obra=1015204\n",
      "http://simec.mec.gov.br/painelObras/contratacao.php?obra=1015288\n",
      "http://simec.mec.gov.br/painelObras/contratacao.php?obra=1015981\n",
      "http://simec.mec.gov.br/painelObras/contratacao.php?obra=1016179\n",
      "http://simec.mec.gov.br/painelObras/contratacao.php?obra=1017422\n",
      "http://simec.mec.gov.br/painelObras/contratacao.php?obra=1018071\n",
      "http://simec.mec.gov.br/painelObras/contratacao.php?obra=1018398\n"
     ]
    }
   ],
   "source": [
    "for _, id in concluida_sem_empresa.iteritems():\n",
    "    print('http://simec.mec.gov.br/painelObras/contratacao.php?obra={}'.format(id))"
   ]
  },
  {
   "cell_type": "code",
   "execution_count": null,
   "metadata": {
    "collapsed": true
   },
   "outputs": [],
   "source": []
  }
 ],
 "metadata": {
  "kernelspec": {
   "display_name": "Python 3",
   "language": "python",
   "name": "python3"
  },
  "language_info": {
   "codemirror_mode": {
    "name": "ipython",
    "version": 3
   },
   "file_extension": ".py",
   "mimetype": "text/x-python",
   "name": "python",
   "nbconvert_exporter": "python",
   "pygments_lexer": "ipython3",
   "version": "3.6.3"
  }
 },
 "nbformat": 4,
 "nbformat_minor": 2
}
